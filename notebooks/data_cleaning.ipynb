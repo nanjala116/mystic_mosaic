{
 "cells": [
  {
   "cell_type": "markdown",
   "metadata": {},
   "source": [
    "## Data Cleaning & Transformation\n",
    " This notebook demonstrates a clean approach to:\n",
    " - Load and clean the dataset\n",
    " - Handle missing values\n",
    " - Convert categorical variables to numeric codes\n",
    " - Normalize numeric features (income, purchase_amount)\n",
    " - Visualize data distributions\n",
    " - Save the cleaned dataset"
   ]
  },
  {
   "cell_type": "code",
   "execution_count": 3,
   "metadata": {},
   "outputs": [
    {
     "ename": "ModuleNotFoundError",
     "evalue": "No module named 'pandas'",
     "output_type": "error",
     "traceback": [
      "\u001b[1;31m---------------------------------------------------------------------------\u001b[0m",
      "\u001b[1;31mModuleNotFoundError\u001b[0m                       Traceback (most recent call last)",
      "\u001b[1;32m~\\AppData\\Local\\Temp\\ipykernel_20372\\4057157263.py\u001b[0m in \u001b[0;36m<cell line: 0>\u001b[1;34m()\u001b[0m\n\u001b[0;32m      1\u001b[0m \u001b[1;31m# Import Libraries\u001b[0m\u001b[1;33m\u001b[0m\u001b[1;33m\u001b[0m\u001b[0m\n\u001b[1;32m----> 2\u001b[1;33m \u001b[1;32mimport\u001b[0m \u001b[0mpandas\u001b[0m \u001b[1;32mas\u001b[0m \u001b[0mpd\u001b[0m\u001b[1;33m\u001b[0m\u001b[1;33m\u001b[0m\u001b[0m\n\u001b[0m\u001b[0;32m      3\u001b[0m \u001b[1;32mimport\u001b[0m \u001b[0mnumpy\u001b[0m \u001b[1;32mas\u001b[0m \u001b[0mnp\u001b[0m\u001b[1;33m\u001b[0m\u001b[1;33m\u001b[0m\u001b[0m\n\u001b[0;32m      4\u001b[0m \u001b[1;32mimport\u001b[0m \u001b[0mmatplotlib\u001b[0m\u001b[1;33m.\u001b[0m\u001b[0mpyplot\u001b[0m \u001b[1;32mas\u001b[0m \u001b[0mplt\u001b[0m\u001b[1;33m\u001b[0m\u001b[1;33m\u001b[0m\u001b[0m\n\u001b[0;32m      5\u001b[0m \u001b[1;32mfrom\u001b[0m \u001b[0msklearn\u001b[0m\u001b[1;33m.\u001b[0m\u001b[0mpreprocessing\u001b[0m \u001b[1;32mimport\u001b[0m \u001b[0mMinMaxScaler\u001b[0m\u001b[1;33m\u001b[0m\u001b[1;33m\u001b[0m\u001b[0m\n",
      "\u001b[1;31mModuleNotFoundError\u001b[0m: No module named 'pandas'"
     ]
    }
   ],
   "source": [
    "# Import Libraries\n",
    "import pandas as pd\n",
    "import numpy as np\n",
    "import matplotlib.pyplot as plt\n",
    "from sklearn.preprocessing import MinMaxScaler"
   ]
  },
  {
   "cell_type": "code",
   "execution_count": null,
   "metadata": {},
   "outputs": [],
   "source": [
    "# Define DataCleaner class\n",
    "class DataCleaner:\n",
    "    def __init__(self, filepath: str):\n",
    "        self.filepath = filepath\n",
    "        self.data = None\n",
    "\n",
    "    def load_data(self):\n",
    "        \"\"\"\n",
    "        Load CSV data, retain 'customer_id' as the index, and parse 'signup_date' as a datetime.\n",
    "        Convert columns into relevant types.\n",
    "        \"\"\"\n",
    "        self.data = pd.read_csv(self.filepath, parse_dates=['signup_date'], index_col='customer_id')\n",
    "        # Convert numeric columns explicitly\n",
    "        self.data['age'] = pd.to_numeric(self.data['age'], errors='coerce')\n",
    "        self.data['income'] = pd.to_numeric(self.data['income'], errors='coerce')\n",
    "        self.data['purchase_amount'] = pd.to_numeric(self.data['purchase_amount'], errors='coerce')\n",
    "        print(\"Data loaded successfully with customer_id as index!\")\n",
    "        return self.data\n",
    "\n",
    "    def handle_missing_values(self):\n",
    "        \"\"\"\n",
    "        Handle missing values:\n",
    "        - Numeric columns: compute skewness and fill missing values with the median.\n",
    "        - For categorical columns: if column is 'city', fill missing with 'Unknown'; for other columns, fill with mode.\n",
    "        - Date column (signup_date): fill missing using forward fill then backward fill.\n",
    "        \"\"\"\n",
    "        # Process numeric columns using median (robust to outliers)\n",
    "        numeric_cols = self.data.select_dtypes(include=[np.number]).columns\n",
    "        for col in numeric_cols:\n",
    "            skewness = self.data[col].skew()\n",
    "            if abs(skewness) > 1:\n",
    "                print(f\"Column '{col}' is skewed (skewness={skewness:.2f}); using median for imputation.\")\n",
    "            median_val = self.data[col].median()\n",
    "            self.data[col] = self.data[col].fillna(median_val)\n",
    "        \n",
    "        # Process categorical columns\n",
    "        for col in self.data.select_dtypes(include=['object']).columns:\n",
    "            if col.lower() == 'city':\n",
    "                self.data[col] = self.data[col].fillna(\"Unknown\")\n",
    "                print(f\"Column '{col}' missing values filled with 'Unknown'.\")\n",
    "            else:\n",
    "                mode_val = self.data[col].mode()[0]\n",
    "                self.data[col] = self.data[col].fillna(mode_val)\n",
    "                print(f\"Column '{col}' missing values filled with mode: {mode_val}.\")\n",
    "        \n",
    "        # Process the date column: fill missing dates using forward and backward fill.\n",
    "        if self.data['signup_date'].isnull().sum() > 0:\n",
    "            self.data['signup_date'] = self.data['signup_date'].ffill().bfill()\n",
    "            print(\"Missing dates in 'signup_date' filled using forward and backward fill.\")\n",
    "\n",
    "        print(\"All missing values have been handled.\")\n",
    "        return self.data\n",
    "\n",
    "    def convert_categorical(self, column: str):\n",
    "        \"\"\"\n",
    "        Convert a categorical column to numerical codes.\n",
    "        \"\"\"\n",
    "        self.data[column] = self.data[column].astype('category').cat.codes\n",
    "        print(f\"Converted column '{column}' to numerical codes.\")\n",
    "        return self.data\n",
    "\n",
    "    def normalize_columns(self, columns: list):\n",
    "        \"\"\"\n",
    "        Normalize specified numeric columns to a 0-1 range using MinMax scaling.\n",
    "        \"\"\"\n",
    "        scaler = MinMaxScaler()\n",
    "        self.data[columns] = scaler.fit_transform(self.data[columns])\n",
    "        print(\"Normalization complete for columns:\", columns)\n",
    "        return self.data\n",
    "\n",
    "    def visualize_data(self):\n",
    "        \"\"\"\n",
    "        Generate histograms for all columns to visualize data distribution.\n",
    "        \"\"\"\n",
    "        self.data.hist(figsize=(10, 8))\n",
    "        plt.tight_layout()\n",
    "        plt.show()\n",
    "\n",
    "    def save_data(self, output_file: str):\n",
    "        \"\"\"\n",
    "        Save the cleaned DataFrame to a CSV file, preserving the index and data types.\n",
    "        \"\"\"\n",
    "        self.data.to_csv(output_file)\n",
    "        print(f\"Cleaned data saved to {output_file}\")\n"
   ]
  },
  {
   "cell_type": "code",
   "execution_count": null,
   "metadata": {},
   "outputs": [],
   "source": [
    "# Usage\n",
    "if __name__ == '__main__':\n",
    "    cleaner = DataCleaner('../data/customer_data.csv')\n",
    "    cleaner.load_data()\n",
    "    cleaner.handle_missing_values()\n",
    "    cleaner.convert_categorical('city')\n",
    "    cleaner.normalize_columns(['income', 'purchase_amount'])\n",
    "    cleaner.visualize_data()\n",
    "    cleaner.save_data('../data/cleaned_data.csv')\n"
   ]
  }
 ],
 "metadata": {
  "kernelspec": {
   "display_name": "Python 3",
   "language": "python",
   "name": "python3"
  },
  "language_info": {
   "codemirror_mode": {
    "name": "ipython",
    "version": 3
   },
   "file_extension": ".py",
   "mimetype": "text/x-python",
   "name": "python",
   "nbconvert_exporter": "python",
   "pygments_lexer": "ipython3",
   "version": "3.11.8"
  }
 },
 "nbformat": 4,
 "nbformat_minor": 2
}
